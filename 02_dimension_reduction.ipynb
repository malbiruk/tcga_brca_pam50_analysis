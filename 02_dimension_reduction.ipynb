{
  "cells": [
    {
      "cell_type": "markdown",
      "source": [
        "# 2. Dimension reduction and visualization of the TCGA-BRCA dataset\n",
        "\n"
      ],
      "metadata": {
        "nteract": {
          "transient": {
            "deleting": false
          }
        }
      }
    },
    {
      "cell_type": "code",
      "source": [
        "from pathlib import Path\n",
        "\n",
        "import numpy as np\n",
        "import pandas as pd\n",
        "import plotly.express as px\n",
        "import plotly.io as pio\n",
        "from sklearn.decomposition import PCA\n",
        "from sklearn.manifold import TSNE\n",
        "from sklearn.preprocessing import StandardScaler\n",
        "from umap import UMAP\n",
        "\n",
        "pio.templates.default = 'simple_white'\n",
        "\n"
      ],
      "outputs": [],
      "execution_count": null,
      "metadata": {
        "jupyter": {
          "source_hidden": false,
          "outputs_hidden": false
        },
        "nteract": {
          "transient": {
            "deleting": false
          }
        }
      }
    },
    {
      "cell_type": "code",
      "source": [
        "dataset_full = pd.read_csv('data/processed/filtered_dataset.csv', index_col=0)\n",
        "metadata_full = pd.read_csv('data/processed/metadata.csv', index_col=0)\n",
        "\n",
        "metadata = metadata_full.dropna(subset='PAM50').reset_index(drop=True)\n",
        "dataset = dataset_full.loc[:, metadata['submitter_id.samples']]\n"
      ],
      "outputs": [],
      "execution_count": null,
      "metadata": {
        "jupyter": {
          "source_hidden": false,
          "outputs_hidden": false
        },
        "nteract": {
          "transient": {
            "deleting": false
          }
        }
      }
    },
    {
      "cell_type": "markdown",
      "source": [
        "## PCA\n"
      ],
      "metadata": {
        "nteract": {
          "transient": {
            "deleting": false
          }
        }
      }
    },
    {
      "cell_type": "code",
      "source": [
        "features_scaled = StandardScaler().fit_transform(dataset.T)\n",
        "\n",
        "pca = PCA()\n",
        "pca_model = pca.fit_transform(features_scaled)\n",
        "\n",
        "cluster_values = pd.DataFrame(pca_model, columns=[f'PC{i + 1}' for i in range(pca_model.shape[1])])\n",
        "cluster_values = cluster_values.join(metadata.rename(\n",
        "    columns={'submitter_id.samples': 'SampleID',\n",
        "             'sample_type.samples': 'SampleType'}))\n",
        "\n"
      ],
      "outputs": [],
      "execution_count": null,
      "metadata": {
        "jupyter": {
          "source_hidden": false,
          "outputs_hidden": false
        },
        "nteract": {
          "transient": {
            "deleting": false
          }
        }
      }
    },
    {
      "cell_type": "code",
      "source": [
        "fig = px.scatter(cluster_values, x='PC1', y='PC2', color='PAM50',\n",
        "                 hover_data='SampleID',\n",
        "                 title='PCA of TCGA-BRCA Dataset (all genes)')\n",
        "\n",
        "output_dir = Path('results/figures')\n",
        "output_dir.mkdir(parents=True, exist_ok=True)\n",
        "fig.show()\n",
        "\n",
        "fig.update_layout(\n",
        "    legend=dict(\n",
        "        orientation='h',\n",
        "        yanchor='top',\n",
        "        y=-0.2,\n",
        "        xanchor='center',\n",
        "        x=0.5\n",
        "    ),\n",
        "    title='all genes',\n",
        "    # showlegend=False\n",
        ")\n",
        "\n",
        "fig.update_layout(dragmode='pan', margin=dict(l=30, r=30, t=30, b=30))\n",
        "fig.write_html(output_dir / 'pca_full_dataset.html',\n",
        "               config={'scrollZoom': True,\n",
        "                       'displaylogo': False})\n"
      ],
      "outputs": [],
      "execution_count": null,
      "metadata": {
        "jupyter": {
          "source_hidden": false,
          "outputs_hidden": false
        },
        "nteract": {
          "transient": {
            "deleting": false
          }
        }
      }
    },
    {
      "cell_type": "code",
      "source": [
        "# PCA Scree plot\n",
        "explained_variance = pca.explained_variance_ratio_\n",
        "cumulative_explained_variance = np.cumsum(explained_variance)\n",
        "\n",
        "fig = px.line(x=range(1, len(cumulative_explained_variance) + 1),\n",
        "              y=cumulative_explained_variance, markers=True)\n",
        "fig.update_layout(\n",
        "    title='PCA Elbow Plot',\n",
        "    xaxis_title='Number of Components',\n",
        "    yaxis_title='Cumulative Explained Variance',\n",
        "    showlegend=False\n",
        ")\n",
        "output_dir = Path('results/figures')\n",
        "output_dir.mkdir(parents=True, exist_ok=True)\n",
        "fig.show()\n",
        "\n",
        "fig.update_layout(title=None)\n",
        "save_fig(fig, output_dir / 'pca_full_scree.html')\n"
      ],
      "outputs": [],
      "execution_count": null,
      "metadata": {
        "jupyter": {
          "source_hidden": false,
          "outputs_hidden": false
        },
        "nteract": {
          "transient": {
            "deleting": false
          }
        }
      }
    },
    {
      "cell_type": "markdown",
      "source": [
        "As we can see, PCA of 2 components explains only 16% of data variance\n"
      ],
      "metadata": {
        "nteract": {
          "transient": {
            "deleting": false
          }
        }
      }
    },
    {
      "cell_type": "code",
      "source": [
        "# define functions for dimension reduction and plotting\n",
        "\n",
        "\n",
        "def reduce_dimensions(method, dataset_, metadata_, method_name,\n",
        "                      add_pca=False, n_pca_components=None, **kwargs):\n",
        "    features_scaled_ = StandardScaler().fit_transform(dataset_.T)\n",
        "\n",
        "    dr = method(**kwargs)  # `dr` as in Dimension Reduction\n",
        "    dr_model = dr.fit_transform(features_scaled_)\n",
        "\n",
        "    if add_pca:\n",
        "        pca_ = PCA(n_components=n_pca_components)\n",
        "        features_scaled_ = pca_.fit_transform(features_scaled_)\n",
        "\n",
        "    cluster_values_ = pd.DataFrame(\n",
        "        dr_model,\n",
        "        columns=[f'{method_name}{i + 1}' for i in range(dr_model.shape[1])])\n",
        "    cluster_values_ = cluster_values_.join(metadata_.rename(\n",
        "        columns={'submitter_id.samples': 'SampleID',\n",
        "                 'sample_type.samples': 'SampleType'}))\n",
        "    return cluster_values_\n",
        "\n",
        "\n",
        "def plot_cluster_values(cluster_values_, method_name, dataset_type, color='PAM50', **kwargs):\n",
        "    fig_ = px.scatter(cluster_values_, x=f'{method_name}1', y=f'{method_name}2',\n",
        "                      color=color, hover_data='SampleID',\n",
        "                      title=f'{method_name} of TCGA-BRCA Dataset ({dataset_type})',\n",
        "                      **kwargs)\n",
        "    fig_.update_layout(\n",
        "        legend=dict(\n",
        "            orientation='h',\n",
        "            yanchor='top',\n",
        "            y=-0.2,\n",
        "            xanchor='center',\n",
        "            x=0.5\n",
        "        ),\n",
        "    )\n",
        "    return fig_\n",
        "\n",
        "\n",
        "def save_fig(fig_, savepath):\n",
        "    fig_.update_layout(dragmode='pan', margin=dict(l=0, r=0, t=30, b=30))\n",
        "    fig_.write_html(savepath, config={'scrollZoom': True, 'displaylogo': False})\n"
      ],
      "outputs": [],
      "execution_count": null,
      "metadata": {
        "jupyter": {
          "source_hidden": false,
          "outputs_hidden": false
        },
        "nteract": {
          "transient": {
            "deleting": false
          }
        }
      }
    },
    {
      "cell_type": "markdown",
      "source": [
        "We can also clusterize this dataset by SampleType:\n",
        "\n"
      ],
      "metadata": {
        "nteract": {
          "transient": {
            "deleting": false
          }
        }
      }
    },
    {
      "cell_type": "code",
      "source": [
        "cluster_values = reduce_dimensions(PCA, dataset_full, metadata_full, 'PCA')\n",
        "fig = plot_cluster_values(cluster_values, 'PCA', 'all genes',\n",
        "                          color='SampleType',\n",
        "                          color_discrete_map={'Primary Tumor': px.colors.qualitative.D3[0],\n",
        "                                              'Metastatic': px.colors.qualitative.D3[3],\n",
        "                                              'Solid Tissue Normal': px.colors.qualitative.D3[1]})\n",
        "fig.show()\n",
        "\n",
        "fig.update_layout(\n",
        "    title=None,\n",
        "    xaxis_title='PC1',\n",
        "    yaxis_title='PC2')\n",
        "save_fig(fig, output_dir / 'pca_sample_type.html')\n"
      ],
      "outputs": [],
      "execution_count": null,
      "metadata": {
        "jupyter": {
          "source_hidden": false,
          "outputs_hidden": false
        },
        "nteract": {
          "transient": {
            "deleting": false
          }
        }
      }
    },
    {
      "cell_type": "code",
      "source": [
        "# create top 20% variance subset\n",
        "gene_variances = dataset.var(axis=1)\n",
        "top_20p_genes = gene_variances.nlargest(round(0.2 * len(dataset))).index\n",
        "top20_var_subset = dataset.loc[top_20p_genes, :]\n",
        "\n"
      ],
      "outputs": [],
      "execution_count": null,
      "metadata": {
        "jupyter": {
          "source_hidden": false,
          "outputs_hidden": false
        },
        "nteract": {
          "transient": {
            "deleting": false
          }
        }
      }
    },
    {
      "cell_type": "code",
      "source": [
        "# create subset from DEGs\n",
        "subtypes = ['LumA', 'LumB', 'Her2', 'Basal', 'Normal']\n",
        "logFC = 1.5\n",
        "pval = 0.05\n",
        "\n",
        "subtype = subtypes[0]\n",
        "\n",
        "degs = []\n",
        "for subtype in subtypes:\n",
        "    degs_df = pd.read_csv(f'results/diff_expression/{subtype}_vs_other.csv')\n",
        "    # using only comparisons of each subtype vs others as we try\n",
        "    # to identify different subtypes (and not comparing with healthy)\n",
        "    degs.extend(degs_df[\n",
        "        (degs_df['adj.P.Val'] < pval) & (degs_df['logFC'].abs() > logFC)\n",
        "    ]['ID'].tolist())\n",
        "degs = list(set(degs))\n",
        "degs_subset = dataset.reindex(degs)\n",
        "degs_subset.to_csv('data/processed/degs_subset.csv')\n",
        "\n"
      ],
      "outputs": [],
      "execution_count": null,
      "metadata": {
        "jupyter": {
          "source_hidden": false,
          "outputs_hidden": false
        },
        "nteract": {
          "transient": {
            "deleting": false
          }
        }
      }
    },
    {
      "cell_type": "code",
      "source": [
        "cluster_values = reduce_dimensions(PCA, dataset, metadata, 'PCA')\n",
        "fig = plot_cluster_values(cluster_values, 'PCA', 'top 20% variable genes')\n",
        "fig.show()\n",
        "fig.update_layout(\n",
        "    title='all genes',\n",
        "    xaxis_title='PC1',\n",
        "    yaxis_title='PC2')\n",
        "save_fig(fig, output_dir / 'pca_full_dataset.html')\n"
      ],
      "outputs": [],
      "execution_count": null,
      "metadata": {
        "jupyter": {
          "source_hidden": false,
          "outputs_hidden": false
        },
        "nteract": {
          "transient": {
            "deleting": false
          }
        }
      }
    },
    {
      "cell_type": "code",
      "source": [
        "cluster_values = reduce_dimensions(PCA, top20_var_subset, metadata, 'PCA')\n",
        "fig = plot_cluster_values(cluster_values, 'PCA', 'top 20% variable genes')\n",
        "fig.show()\n",
        "fig.update_layout(\n",
        "    title='top 20% variable genes',\n",
        "    xaxis_title='PC1',\n",
        "    yaxis_title='PC2')\n",
        "save_fig(fig, output_dir / 'pca_top20_var.html')\n"
      ],
      "outputs": [],
      "execution_count": null,
      "metadata": {
        "jupyter": {
          "source_hidden": false,
          "outputs_hidden": false
        },
        "nteract": {
          "transient": {
            "deleting": false
          }
        }
      }
    },
    {
      "cell_type": "code",
      "source": [
        "cluster_values = reduce_dimensions(PCA, degs_subset, metadata, 'PCA')\n",
        "fig = plot_cluster_values(cluster_values, 'PCA', 'DEGs')\n",
        "fig.show()\n",
        "fig.update_layout(\n",
        "    title='DEGs',\n",
        "    xaxis_title='PC1',\n",
        "    yaxis_title='PC2')\n",
        "\n",
        "save_fig(fig, output_dir / 'pca_degs.html')\n",
        "\n"
      ],
      "outputs": [],
      "execution_count": null,
      "metadata": {
        "jupyter": {
          "source_hidden": false,
          "outputs_hidden": false
        },
        "nteract": {
          "transient": {
            "deleting": false
          }
        }
      }
    },
    {
      "cell_type": "markdown",
      "source": [
        "## t-SNE\n"
      ],
      "metadata": {
        "nteract": {
          "transient": {
            "deleting": false
          }
        }
      }
    },
    {
      "cell_type": "code",
      "source": [
        "cluster_values = reduce_dimensions(TSNE, dataset, metadata, 'TSNE', perplexity=50)\n",
        "fig = plot_cluster_values(cluster_values, 'TSNE', 'all genes')\n",
        "fig.show()\n",
        "fig.update_layout(\n",
        "    title='all genes')\n",
        "save_fig(fig, output_dir / 'tsne_full_dataset.html')\n"
      ],
      "outputs": [],
      "execution_count": null,
      "metadata": {
        "jupyter": {
          "source_hidden": false,
          "outputs_hidden": false
        },
        "nteract": {
          "transient": {
            "deleting": false
          }
        }
      }
    },
    {
      "cell_type": "code",
      "source": [
        "cluster_values = reduce_dimensions(TSNE, top20_var_subset, metadata, 'TSNE', perplexity=50)\n",
        "fig = plot_cluster_values(cluster_values, 'TSNE', 'top 20% variable genes')\n",
        "fig.show()\n",
        "fig.update_layout(\n",
        "    title='top 20% variable genes',\n",
        ")\n",
        "save_fig(fig, output_dir / 'tsne_top20_var.html')\n"
      ],
      "outputs": [],
      "execution_count": null,
      "metadata": {
        "jupyter": {
          "source_hidden": false,
          "outputs_hidden": false
        },
        "nteract": {
          "transient": {
            "deleting": false
          }
        }
      }
    },
    {
      "cell_type": "code",
      "source": [
        "cluster_values = reduce_dimensions(TSNE, degs_subset, metadata, 'TSNE', perplexity=50)\n",
        "fig = plot_cluster_values(cluster_values, 'TSNE', 'DEGs')\n",
        "fig.show()\n",
        "fig.update_layout(\n",
        "    title='DEGs')\n",
        "save_fig(fig, output_dir / 'tsne_degs.html')\n",
        "\n"
      ],
      "outputs": [],
      "execution_count": null,
      "metadata": {
        "jupyter": {
          "source_hidden": false,
          "outputs_hidden": false
        },
        "nteract": {
          "transient": {
            "deleting": false
          }
        }
      }
    },
    {
      "cell_type": "markdown",
      "source": [
        "## PCA + t-SNE\n",
        "\n"
      ],
      "metadata": {
        "nteract": {
          "transient": {
            "deleting": false
          }
        }
      }
    },
    {
      "cell_type": "code",
      "source": [
        "cluster_values = reduce_dimensions(TSNE, dataset, metadata, 'PCA+TSNE',\n",
        "                                   add_pca=True, n_pca_components=346, perplexity=50)\n",
        "fig = plot_cluster_values(cluster_values, 'PCA+TSNE', 'all genes')\n",
        "fig.show()\n",
        "\n",
        "fig.update_layout(\n",
        "    title='all genes',\n",
        "    xaxis_title='TSNE1',\n",
        "    yaxis_title='TSNE2'\n",
        ")\n",
        "save_fig(fig, output_dir / 'pca_tsne_full_dataset.html')\n"
      ],
      "outputs": [],
      "execution_count": null,
      "metadata": {
        "jupyter": {
          "source_hidden": false,
          "outputs_hidden": false
        },
        "nteract": {
          "transient": {
            "deleting": false
          }
        }
      }
    },
    {
      "cell_type": "code",
      "source": [
        "cluster_values = reduce_dimensions(TSNE, top20_var_subset, metadata, 'PCA+TSNE',\n",
        "                                   add_pca=True, n_pca_components=513, perplexity=50)\n",
        "fig = plot_cluster_values(cluster_values, 'PCA+TSNE', 'top 20% variable genes')\n",
        "fig.show()\n",
        "fig.update_layout(\n",
        "    title='top 20% variable genes',\n",
        "    xaxis_title='TSNE1',\n",
        "    yaxis_title='TSNE2'\n",
        ")\n",
        "save_fig(fig, output_dir / 'pca_tsne_top20_var.html')\n"
      ],
      "outputs": [],
      "execution_count": null,
      "metadata": {
        "jupyter": {
          "source_hidden": false,
          "outputs_hidden": false
        },
        "nteract": {
          "transient": {
            "deleting": false
          }
        }
      }
    },
    {
      "cell_type": "code",
      "source": [
        "cluster_values = reduce_dimensions(TSNE, degs_subset, metadata, 'PCA+TSNE',\n",
        "                                   add_pca=True, n_pca_components=403, perplexity=50)\n",
        "fig = plot_cluster_values(cluster_values, 'PCA+TSNE', 'DEGs')\n",
        "fig.show()\n",
        "fig.update_layout(\n",
        "    title='DEGs',\n",
        "    xaxis_title='TSNE1',\n",
        "    yaxis_title='TSNE2'\n",
        ")\n",
        "save_fig(fig, output_dir / 'pca_tsne_degs.html')\n",
        "\n"
      ],
      "outputs": [],
      "execution_count": null,
      "metadata": {
        "jupyter": {
          "source_hidden": false,
          "outputs_hidden": false
        },
        "nteract": {
          "transient": {
            "deleting": false
          }
        }
      }
    },
    {
      "cell_type": "markdown",
      "source": [
        "## UMAP\n"
      ],
      "metadata": {
        "nteract": {
          "transient": {
            "deleting": false
          }
        }
      }
    },
    {
      "cell_type": "code",
      "source": [
        "cluster_values = reduce_dimensions(UMAP, dataset, metadata, 'UMAP', n_neighbors=500)\n",
        "fig = plot_cluster_values(cluster_values, 'UMAP', 'all genes')\n",
        "fig.show()\n",
        "fig.update_layout(\n",
        "    title='all genes')\n",
        "save_fig(fig, output_dir / 'umap_full_dataset.html')\n"
      ],
      "outputs": [],
      "execution_count": null,
      "metadata": {
        "jupyter": {
          "source_hidden": false,
          "outputs_hidden": false
        },
        "nteract": {
          "transient": {
            "deleting": false
          }
        }
      }
    },
    {
      "cell_type": "code",
      "source": [
        "cluster_values = reduce_dimensions(UMAP, top20_var_subset, metadata, 'UMAP', n_neighbors=500)\n",
        "fig = plot_cluster_values(cluster_values, 'UMAP', 'top 20% variable genes')\n",
        "fig.show()\n",
        "fig.update_layout(\n",
        "    title='top 20% variable genes')\n",
        "save_fig(fig, output_dir / 'umap_top20_var.html')\n"
      ],
      "outputs": [],
      "execution_count": null,
      "metadata": {
        "jupyter": {
          "source_hidden": false,
          "outputs_hidden": false
        },
        "nteract": {
          "transient": {
            "deleting": false
          }
        }
      }
    },
    {
      "cell_type": "code",
      "source": [
        "cluster_values = reduce_dimensions(UMAP, degs_subset, metadata, 'UMAP', n_neighbors=500)\n",
        "fig = plot_cluster_values(cluster_values, 'UMAP', 'DEGs')\n",
        "fig.show()\n",
        "fig.update_layout(\n",
        "    title='DEGs')\n",
        "save_fig(fig, output_dir / 'umap_degs.html')"
      ],
      "outputs": [],
      "execution_count": null,
      "metadata": {
        "jupyter": {
          "source_hidden": false,
          "outputs_hidden": false
        },
        "nteract": {
          "transient": {
            "deleting": false
          }
        }
      }
    }
  ],
  "metadata": {},
  "nbformat": 4,
  "nbformat_minor": 0
}