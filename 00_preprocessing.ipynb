{
  "cells": [
    {
      "cell_type": "markdown",
      "source": [
        "# 0. Preprocessing\n"
      ],
      "metadata": {
        "nteract": {
          "transient": {
            "deleting": false
          }
        }
      }
    },
    {
      "cell_type": "code",
      "source": [
        "from pathlib import Path\n",
        "\n",
        "import pandas as pd\n",
        "import plotly.figure_factory as ff\n",
        "import plotly.io as pio\n",
        "\n",
        "pio.templates.default = 'simple_white'\n"
      ],
      "outputs": [],
      "execution_count": null,
      "metadata": {
        "jupyter": {
          "source_hidden": false,
          "outputs_hidden": false
        },
        "nteract": {
          "transient": {
            "deleting": false
          }
        }
      }
    },
    {
      "cell_type": "code",
      "source": [
        "# load tables\n",
        "input_dir = Path('data/input')\n",
        "tcga = pd.read_csv(input_dir / 'TCGA-BRCA.htseq_fpkm-uq.tsv', sep='\\t')\n",
        "gene_names = pd.read_csv(input_dir / 'gencode.v22.annotation.gene.probeMap', sep='\\t')\n",
        "phenotypes = pd.read_csv(input_dir / 'TCGA-BRCA.GDC_phenotype.tsv', sep='\\t')\n",
        "lehmann_metadata = pd.read_csv(input_dir / 'Lehmann_metadata.csv')\n"
      ],
      "outputs": [],
      "execution_count": null,
      "metadata": {
        "jupyter": {
          "source_hidden": false,
          "outputs_hidden": false
        },
        "nteract": {
          "transient": {
            "deleting": false
          }
        }
      }
    },
    {
      "cell_type": "code",
      "source": [
        "# convert Enesmbl Ids to gene names\n",
        "gene_names.rename(columns={'id': 'Ensembl_ID'}, inplace=True)\n",
        "tcga = tcga.merge(gene_names[['Ensembl_ID', 'gene']], on='Ensembl_ID')\n",
        "columns = ['Ensembl_ID', 'gene'] + [col for col in tcga.columns\n",
        "                                    if col not in ['Ensembl_ID', 'gene']]\n",
        "tcga = tcga[columns]\n",
        "tcga.drop('Ensembl_ID', axis=1, inplace=True)\n",
        "tcga = tcga.groupby('gene').sum()\n",
        "\n"
      ],
      "outputs": [],
      "execution_count": null,
      "metadata": {
        "jupyter": {
          "source_hidden": false,
          "outputs_hidden": false
        },
        "nteract": {
          "transient": {
            "deleting": false
          }
        }
      }
    },
    {
      "cell_type": "code",
      "source": [
        "print('N samples in `tcga`: ', len(tcga.columns))\n",
        "print('N samples in `phenotypes`: ', phenotypes['submitter_id.samples'].nunique())\n",
        "print('N samples in `lehmann_metadata`: ', lehmann_metadata['TCGA_SAMPLE'].nunique())\n"
      ],
      "outputs": [],
      "execution_count": null,
      "metadata": {
        "jupyter": {
          "source_hidden": false,
          "outputs_hidden": false
        },
        "nteract": {
          "transient": {
            "deleting": false
          }
        }
      }
    },
    {
      "cell_type": "code",
      "source": [
        "# save only common samples between `phenotypes` and `tcga`\n",
        "phenodata = phenotypes[phenotypes['submitter_id.samples'].isin(tcga.columns)][\n",
        "    ['submitter_id.samples', 'sample_type.samples']]\n",
        "\n",
        "lehmann_metadata = lehmann_metadata.sort_values(by='TCGA_SAMPLE')\n",
        "phenodata = phenodata.sort_values(by='submitter_id.samples')\n",
        "tcga = tcga.reindex(sorted(tcga.columns), axis=1)\n"
      ],
      "outputs": [],
      "execution_count": null,
      "metadata": {
        "jupyter": {
          "source_hidden": false,
          "outputs_hidden": false
        },
        "nteract": {
          "transient": {
            "deleting": false
          }
        }
      }
    },
    {
      "cell_type": "code",
      "source": [
        "# create table with only tissue type and PAM50\n",
        "phenodata['TCGA_SAMPLE'] = phenodata['submitter_id.samples'].str[:-1]\n",
        "metadata = phenodata.merge(lehmann_metadata[['TCGA_SAMPLE', 'PAM50']],\n",
        "                           on='TCGA_SAMPLE', how='left').reset_index(drop=True)\n"
      ],
      "outputs": [],
      "execution_count": null,
      "metadata": {
        "jupyter": {
          "source_hidden": false,
          "outputs_hidden": false
        },
        "nteract": {
          "transient": {
            "deleting": false
          }
        }
      }
    },
    {
      "cell_type": "code",
      "source": [
        "# using df.sample() as plotting too many values is resource heavy\n",
        "tcga_sample = tcga.sample(6000, random_state=42)\n",
        "genes_expr = tcga_sample.mean(axis=1)\n",
        "\n",
        "fig = ff.create_distplot([genes_expr], group_labels=['Expression'])\n",
        "fig.update_layout(\n",
        "    xaxis_title='Expression',\n",
        "    yaxis_title='Density',\n",
        "    showlegend=False\n",
        ")\n",
        "output_dir = Path('results/figures')\n",
        "output_dir.mkdir(parents=True, exist_ok=True)\n",
        "fig.show()\n",
        "# fig.write_html(output_dir / 'average_expression_distribution.html')\n",
        "\n"
      ],
      "outputs": [],
      "execution_count": null,
      "metadata": {
        "jupyter": {
          "source_hidden": false,
          "outputs_hidden": false
        },
        "nteract": {
          "transient": {
            "deleting": false
          }
        }
      }
    },
    {
      "cell_type": "markdown",
      "source": [
        "As we can see, there is a huge density peak in low expression area (<7),\n",
        "and the density reduces a lot after about 28. Let's filter our dataset by this values.\n"
      ],
      "metadata": {
        "nteract": {
          "transient": {
            "deleting": false
          }
        }
      }
    },
    {
      "cell_type": "code",
      "source": [
        "genes_expr = tcga.mean(axis=1)\n",
        "tcga_filtered = tcga[(genes_expr > 7) & (genes_expr < 28)]\n"
      ],
      "outputs": [],
      "execution_count": null,
      "metadata": {
        "jupyter": {
          "source_hidden": false,
          "outputs_hidden": false
        },
        "nteract": {
          "transient": {
            "deleting": false
          }
        }
      }
    },
    {
      "cell_type": "code",
      "source": [
        "# using sample as plotting too many values is resource heavy\n",
        "tcga_sample = tcga_filtered.sample(6000, random_state=42)\n",
        "genes_expr = tcga_sample.mean(axis=1)\n",
        "\n",
        "fig = ff.create_distplot([genes_expr], group_labels=['Expression'])\n",
        "fig.update_layout(title='Gene Expression Values Aggregated by Genes (after filtering)',\n",
        "                  xaxis_title='Expression',\n",
        "                  yaxis_title='Density',\n",
        "                  )\n",
        "fig.show()\n",
        "# fig.write_html(output_dir / 'average_expression_distribution_filtered.html')\n",
        "\n"
      ],
      "outputs": [],
      "execution_count": null,
      "metadata": {
        "jupyter": {
          "source_hidden": false,
          "outputs_hidden": false
        },
        "nteract": {
          "transient": {
            "deleting": false
          }
        }
      }
    },
    {
      "cell_type": "code",
      "source": [
        "# saving filtered dataset and metadata\n",
        "output_dir = Path('data/processed')\n",
        "output_dir.mkdir(parents=True, exist_ok=True)\n",
        "tcga_filtered.to_csv(output_dir / 'filtered_dataset.csv')\n",
        "metadata.to_csv(output_dir / 'metadata.csv')"
      ],
      "outputs": [],
      "execution_count": null,
      "metadata": {
        "jupyter": {
          "source_hidden": false,
          "outputs_hidden": false
        },
        "nteract": {
          "transient": {
            "deleting": false
          }
        }
      }
    }
  ],
  "metadata": {},
  "nbformat": 4,
  "nbformat_minor": 0
}