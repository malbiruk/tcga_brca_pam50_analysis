{
  "cells": [
    {
      "cell_type": "markdown",
      "source": [
        "# 1. Differential Expression (DE) analysis\n",
        "\n"
      ],
      "metadata": {
        "nteract": {
          "transient": {
            "deleting": false
          }
        }
      }
    },
    {
      "cell_type": "code",
      "source": [
        "from pathlib import Path\n",
        "\n",
        "import numpy as np\n",
        "import pandas as pd\n",
        "import plotly.express as px\n",
        "import plotly.io as pio\n",
        "from plotly.graph_objs._figure import Figure\n",
        "from scripts.limma import run_limma\n",
        "from tqdm import tqdm\n",
        "\n",
        "pio.templates.default = 'simple_white'\n",
        "\n",
        "\n",
        "def save_fig(fig_, savepath):\n",
        "    fig_.update_layout(dragmode='pan', margin=dict(l=30, r=30, t=30, b=30))\n",
        "    fig_.write_html(savepath, config={'scrollZoom': True, 'displaylogo': False})\n",
        "\n"
      ],
      "outputs": [],
      "execution_count": null,
      "metadata": {
        "jupyter": {
          "source_hidden": false,
          "outputs_hidden": false
        },
        "nteract": {
          "transient": {
            "deleting": false
          }
        }
      }
    },
    {
      "cell_type": "code",
      "source": [
        "dataset = pd.read_csv('data/processed/filtered_dataset.csv', index_col=0)\n",
        "metadata = pd.read_csv('data/processed/metadata.csv', index_col=0)\n",
        "\n"
      ],
      "outputs": [],
      "execution_count": null,
      "metadata": {
        "jupyter": {
          "source_hidden": false,
          "outputs_hidden": false
        },
        "nteract": {
          "transient": {
            "deleting": false
          }
        }
      }
    },
    {
      "cell_type": "markdown",
      "source": [
        "I am more comfortable using Python than R, so I'll use limma via this\n",
        "[script](https://github.com/shivaprasad-patil/LIMMA-Python-implementation).\n",
        "(I modified it a little: fixed some errors related to version differences,\n",
        "made final export to csv via pandas instead of xlsx via R, and\n",
        "wrapped everything into a function with arguments to be able to run it\n",
        "more easily in this notebook.)\n",
        "\n",
        "For each PAM50 Subtype N (N ∈ \\[LumA, LumB, Her2, Basal, Normal\\]) two type of the experiments\n",
        "will be carried:\n",
        "- Subtype N vs Normal samples\n",
        "- Subtype N vs other subtypes combined\n"
      ],
      "metadata": {
        "nteract": {
          "transient": {
            "deleting": false
          }
        }
      }
    },
    {
      "cell_type": "code",
      "source": [
        "# create experiment input files for scripts.limma.py for each of experiments\n",
        "experiments = [{'pam50': pam50, 'experiment_type': exp_type}\n",
        "               for pam50 in metadata['PAM50'].dropna().unique()\n",
        "               for exp_type in ['vs_other', 'vs_normal']]\n",
        "\n",
        "for experiment in experiments:\n",
        "    if experiment['experiment_type'] == 'vs_other':\n",
        "        sub_metadata = metadata.dropna(subset='PAM50')\n",
        "        data = dataset.loc[:, sub_metadata['submitter_id.samples']]\n",
        "        design = sub_metadata[['submitter_id.samples', 'PAM50']].rename(\n",
        "            columns={'submitter_id.samples': 'ID', 'PAM50': 'Target'}\n",
        "        ).reset_index(drop=True)\n",
        "        design['Target'] = design['Target'].apply(\n",
        "            lambda x: x if x == experiment['pam50'] else 'other')\n",
        "        experiment['data'] = data\n",
        "        experiment['design'] = design\n",
        "\n",
        "    else:\n",
        "        sub_metadata = metadata[\n",
        "            (metadata['sample_type.samples'] != 'Metastatic')\n",
        "            & ((metadata['PAM50'] == experiment['pam50']) | metadata['PAM50'].isna())]\n",
        "        data = dataset.loc[:, sub_metadata['submitter_id.samples']]\n",
        "        design = sub_metadata[['submitter_id.samples', 'sample_type.samples']].rename(\n",
        "            columns={'submitter_id.samples': 'ID', 'sample_type.samples': 'Target'}\n",
        "        ).reset_index(drop=True)\n",
        "        design['Target'] = design['Target'].apply(\n",
        "            lambda x: 'normal' if x == 'Solid Tissue Normal' else experiment['pam50'])\n",
        "        experiment['data'] = data\n",
        "        experiment['design'] = design\n",
        "\n"
      ],
      "outputs": [],
      "execution_count": null,
      "metadata": {
        "jupyter": {
          "source_hidden": false,
          "outputs_hidden": false
        },
        "nteract": {
          "transient": {
            "deleting": false
          }
        }
      }
    },
    {
      "cell_type": "markdown",
      "source": [
        "Now we have a list of dicts `experiments` where each element stores descriptions of each\n",
        "experiment as dict and contains the following keys and values:\n",
        "- `pam50`: PAM50 subtype\n",
        "- `experiment_type`: \"vs_other\" or \"vs_normal\"\n",
        "- `data`: pd.DataFrame with expression data only from relevant samples\n",
        "- `design`: design table which is required to run limma\n",
        "(describes which samples correspond to which groups)\n",
        "\n",
        "For example, let's display contents of the second element of this list:\n",
        "\n"
      ],
      "metadata": {
        "nteract": {
          "transient": {
            "deleting": false
          }
        }
      }
    },
    {
      "cell_type": "code",
      "source": [
        "display(experiments[1]['pam50'])\n",
        "display(experiments[1]['experiment_type'])\n",
        "display(experiments[1]['data'])\n",
        "display(experiments[1]['design'])\n",
        "\n"
      ],
      "outputs": [],
      "execution_count": null,
      "metadata": {
        "jupyter": {
          "source_hidden": false,
          "outputs_hidden": false
        },
        "nteract": {
          "transient": {
            "deleting": false
          }
        }
      }
    },
    {
      "cell_type": "code",
      "source": [
        "# run limma for each experiment:\n",
        "output_dir = Path('results/diff_expression')\n",
        "output_dir.mkdir(parents=True, exist_ok=True)\n",
        "\n",
        "for experiment in tqdm(experiments):\n",
        "    run_limma(experiment['data'],\n",
        "              experiment['design'],\n",
        "              experiment['pam50'],\n",
        "              experiment['experiment_type'].split('_', 1)[1],\n",
        "              output_dir / f\"{experiment['pam50']}_{experiment['experiment_type']}.csv\")\n",
        "\n"
      ],
      "outputs": [],
      "execution_count": null,
      "metadata": {
        "jupyter": {
          "source_hidden": false,
          "outputs_hidden": false
        },
        "nteract": {
          "transient": {
            "deleting": false
          }
        }
      }
    },
    {
      "cell_type": "markdown",
      "source": [
        "some functions to get statistics and visualize DEGs are defined below\n"
      ],
      "metadata": {
        "nteract": {
          "transient": {
            "deleting": false
          }
        }
      }
    },
    {
      "cell_type": "code",
      "source": [
        "def calculate_n_degs(df: pd.DataFrame, logFC: float = 0.3, pval: float = 0.05) -> int:\n",
        "    '''\n",
        "    df:        table of DEGs (from limma)\n",
        "    logFC:     threshold for DEGs by absolute value logFC\n",
        "    pval:      threshold for DEGs by adjusted p-value\n",
        "\n",
        "    returns n of DEGs\n",
        "    '''\n",
        "    return len(df[(abs(df['logFC']) > logFC) & (df['adj.P.Val'] < pval)])\n",
        "\n"
      ],
      "outputs": [],
      "execution_count": null,
      "metadata": {
        "jupyter": {
          "source_hidden": false,
          "outputs_hidden": false
        },
        "nteract": {
          "transient": {
            "deleting": false
          }
        }
      }
    },
    {
      "cell_type": "code",
      "source": [
        "def process_df_for_volcano(df: pd.DataFrame, logFC: float = 0.3, pval: float = 0.05,\n",
        "                           remove_outliers: bool = True) -> pd.DataFrame:\n",
        "    '''\n",
        "    rename columns, add columns '-log10 P-value' and 'DEG type',\n",
        "    remove outliers using interquantile range method\n",
        "\n",
        "    df:                table of DEGs from limma\n",
        "    logFC:             threshold for DEGs by absolute value logFC\n",
        "    pval:              threshold for DEGs by adjusted p-value\n",
        "    remove_outliers:   flag to remove genes with logFC value >= quartile + 15 * interquartile range\n",
        "    '''\n",
        "    df = df.copy()\n",
        "    if remove_outliers:\n",
        "        Q1 = df['logFC'].quantile(0.25)\n",
        "        Q3 = df['logFC'].quantile(0.75)\n",
        "        IQR = Q3 - Q1\n",
        "        lower_bound = Q1 - 15 * IQR\n",
        "        upper_bound = Q3 + 15 * IQR\n",
        "        were_genes = len(df)\n",
        "        df = df[(df['logFC'] >= lower_bound) & (df['logFC'] <= upper_bound)]\n",
        "        n_removed_genes = were_genes - len(df)\n",
        "        if n_removed_genes != 0:\n",
        "            print(f'{n_removed_genes} genes were removed as outliers')\n",
        "\n",
        "    df['DEG type'] = df.apply(\n",
        "        lambda x: 'Down-regulated genes'\n",
        "        if ((x['logFC'] < -logFC) and (x['adj.P.Val'] < pval))\n",
        "        else 'Up-regulated genes' if ((x['logFC'] > logFC) and (x['adj.P.Val'] < pval))\n",
        "        else 'Insignificant genes',\n",
        "        axis=1\n",
        "    )\n",
        "    df['-log10 P-value'] = -np.log10(df['adj.P.Val'])\n",
        "    df.rename(columns={'logFC': 'log Fold Change'}, inplace=True)\n",
        "    return df\n"
      ],
      "outputs": [],
      "execution_count": null,
      "metadata": {
        "jupyter": {
          "source_hidden": false,
          "outputs_hidden": false
        },
        "nteract": {
          "transient": {
            "deleting": false
          }
        }
      }
    },
    {
      "cell_type": "code",
      "source": [
        "\n",
        "\n",
        "def plot_degs(df: pd.DataFrame, logFC: float = 0.3, pval: float = 0.05,\n",
        "              title: str = None) -> Figure:\n",
        "    '''\n",
        "    volcano plot\n",
        "\n",
        "    df:        processed table of DEGs from limma (should include columns:\n",
        "                   'ID', 'log Fold Change', '-log10 P-value', 'DEG type')\n",
        "    logFC:     threshold for DEGs by absolute value logFC\n",
        "    pval:      threshold for DEGs by adjusted p-value\n",
        "    title:     title for plot\n",
        "    '''\n",
        "    fig = px.scatter(df, x='log Fold Change', y='-log10 P-value', color='DEG type',\n",
        "                     hover_data=['ID'], title=title,\n",
        "                     color_discrete_map={'Up-regulated genes': 'seagreen',\n",
        "                                         'Down-regulated genes': 'pink',\n",
        "                                         'Insignificant genes': 'darkgray'})\n",
        "    fig.update_yaxes(range=[0, df['-log10 P-value'].max()])\n",
        "\n",
        "    fig.add_shape(\n",
        "        type='line',\n",
        "        x0=logFC, x1=logFC,\n",
        "        y0=0, y1=1,\n",
        "        xref='x',\n",
        "        yref='paper',\n",
        "        line=dict(color='dimgray', width=0.5)\n",
        "    )\n",
        "    fig.add_shape(\n",
        "        type='line',\n",
        "        x0=-logFC, x1=-logFC,\n",
        "        y0=0, y1=1,\n",
        "        xref='x',\n",
        "        yref='paper',\n",
        "        line=dict(color='dimgray', width=0.5)\n",
        "    )\n",
        "    fig.add_shape(\n",
        "        type='line',\n",
        "        x0=0, x1=1,\n",
        "        y0=-np.log10(pval), y1=-np.log10(pval),\n",
        "        xref='paper',\n",
        "        yref='y',\n",
        "        line=dict(color='dimgray', width=0.5)\n",
        "    )\n",
        "\n",
        "    fig.update_layout(\n",
        "        legend=dict(\n",
        "            orientation='h',\n",
        "            yanchor='top',\n",
        "            y=-0.2,\n",
        "            xanchor='center',\n",
        "            x=0.5\n",
        "        ),\n",
        "    )\n",
        "    return fig\n",
        "\n"
      ],
      "outputs": [],
      "execution_count": null,
      "metadata": {
        "jupyter": {
          "source_hidden": false,
          "outputs_hidden": false
        },
        "nteract": {
          "transient": {
            "deleting": false
          }
        }
      }
    },
    {
      "cell_type": "code",
      "source": [
        "def describe_experiment(pam50: str, exp_type: str,\n",
        "                        logFC: float = 0.3, pval: float = 0.05,\n",
        "                        degs_dir: Path = Path('results/diff_expression'),\n",
        "                        figs_dir: Path = Path('results/figures'),\n",
        "                        save_figure: bool = True):\n",
        "    degs = pd.read_csv(degs_dir / f'{pam50}_{exp_type}.csv')\n",
        "    n_degs = calculate_n_degs(degs, logFC, pval)\n",
        "    n_genes = len(degs)\n",
        "    degs_percent = n_degs / n_genes * 100\n",
        "\n",
        "    degs = process_df_for_volcano(degs, logFC, pval)\n",
        "\n",
        "    fig = plot_degs(degs, logFC, pval, title=' '.join(f'{pam50}_{exp_type}'.split('_')))\n",
        "    if save_figure:\n",
        "        save_fig(fig, figs_dir / f'{pam50}_{exp_type}_degs.html')\n",
        "    fig.show()\n",
        "\n",
        "    print(f'\\nN DEGs: {n_degs} ({round(degs_percent, 2)}%)')\n",
        "    print('\\nTop up-regulated genes:')\n",
        "    display(degs[degs['DEG type'] == 'Up-regulated genes']\n",
        "            .sort_values('log Fold Change', ascending=False)\n",
        "            [['ID', 'log Fold Change', 'adj.P.Val']]\n",
        "            .head())\n",
        "    print('\\nTop down-regulated genes:')\n",
        "    display(degs[degs['DEG type'] == 'Down-regulated genes']\n",
        "            .sort_values('log Fold Change')[['ID', 'log Fold Change', 'adj.P.Val']]\n",
        "            .head())\n",
        "    print('\\n\\n')\n",
        "\n"
      ],
      "outputs": [],
      "execution_count": null,
      "metadata": {
        "jupyter": {
          "source_hidden": false,
          "outputs_hidden": false
        },
        "nteract": {
          "transient": {
            "deleting": false
          }
        }
      }
    },
    {
      "cell_type": "code",
      "source": [
        "log_fc = 1.5\n",
        "p_val = 0.05\n"
      ],
      "outputs": [],
      "execution_count": null,
      "metadata": {
        "jupyter": {
          "source_hidden": false,
          "outputs_hidden": false
        },
        "nteract": {
          "transient": {
            "deleting": false
          }
        }
      }
    },
    {
      "cell_type": "code",
      "source": [
        "for experiment in experiments:\n",
        "    describe_experiment(experiment['pam50'], experiment['experiment_type'], log_fc, p_val,\n",
        "                        save_figure=True)"
      ],
      "outputs": [],
      "execution_count": null,
      "metadata": {
        "jupyter": {
          "source_hidden": false,
          "outputs_hidden": false
        },
        "nteract": {
          "transient": {
            "deleting": false
          }
        }
      }
    }
  ],
  "metadata": {},
  "nbformat": 4,
  "nbformat_minor": 0
}